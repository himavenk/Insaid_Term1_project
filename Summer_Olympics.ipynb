{
 "cells": [
  {
   "cell_type": "code",
   "execution_count": 189,
   "metadata": {
    "scrolled": true
   },
   "outputs": [
    {
     "name": "stdout",
     "output_type": "stream",
     "text": [
      "                                              Num\n",
      "Year Country Athlete              Discipline     \n",
      "2012 AUS     COUTTS, Alicia       Swimming      5\n",
      "             ELMSLIE, Brittany    Swimming      3\n",
      "             SCHLANGER, Melanie   Swimming      3\n",
      "             SEEBOHM, Emily       Swimming      3\n",
      "     CHN     SUN, Yang            Swimming      4\n",
      "     FRA     AGNEL, Yannick       Swimming      3\n",
      "             MUFFAT, Camille      Swimming      3\n",
      "     JPN     IRIE, Ryosuke        Swimming      3\n",
      "             SUZUKI, Satomi       Swimming      3\n",
      "     NED     KROMOWIDJOJO, Ranomi Swimming      3\n",
      "     USA     ADRIAN, Nathan       Swimming      3\n",
      "             FRANKLIN, Missy      Swimming      5\n",
      "             GREVERS, Matthew     Swimming      3\n",
      "             JONES, Cullen        Swimming      3\n",
      "             LOCHTE, Ryan         Swimming      5\n",
      "             PHELPS, Michael      Swimming      6\n",
      "             SCHMITT, Allison     Swimming      5\n",
      "             SONI, Rebecca        Swimming      3\n",
      "             VOLLMER, Dana        Swimming      3\n"
     ]
    }
   ],
   "source": [
    "import os\n",
    "import pandas as pd\n",
    "import numpy as np\n",
    "#print(os.getcwd())\n",
    "df = pd.read_csv('Summer_Olympics.txt') #Read data\n",
    "df['Num'] = 1 #Add new column\n",
    "df.duplicated(subset=None, keep='first')#Remove duplicates\n",
    "\n",
    "df_2k =df[(df['Year'] == 2012) & (df['Discipline'] == 'Swimming') ] #Filter data\n",
    "#df_2k.head()\n",
    "df_2k.groupby(['Year','Country'])[\"Num\"].sum() #Number of total medals per country\n",
    "df_2k.groupby(['Year','Country','Medal'])[\"Num\"].sum() #Number of Gold, Silver, Bronze medals per country\n",
    "df_g=df_2k.groupby(['Year','Country','Athlete','Discipline']).sum()  #Athletes with multiple medals\n",
    "#print(df_g)\n",
    "\n",
    "#print(type(df_g))# to identify type of object\n",
    "\n",
    "df_filtered = df_g[df_g['Num']> 2 ]\n",
    "print(df_filtered)\n",
    "#df_filtered.plot([Athlete])\n",
    "#df_filtered\n",
    "##print(df_2k['Discipline'].value_counts())\n",
    "#df_2k['Discipline'].unique() # Distinct disciplines\n",
    "#df_2k['Event'].unique() # Distinct Events\n",
    "     "
   ]
  },
  {
   "cell_type": "code",
   "execution_count": 229,
   "metadata": {},
   "outputs": [
    {
     "name": "stdout",
     "output_type": "stream",
     "text": [
      "      Num\n",
      "Year     \n",
      "1900   11\n",
      "1904   12\n",
      "1908   15\n",
      "1912   30\n",
      "1920   43\n",
      "1924   51\n",
      "1928   95\n",
      "1932   60\n",
      "1936   84\n",
      "1948   96\n",
      "1952  139\n",
      "1956  146\n",
      "1960  145\n",
      "1964  190\n",
      "1968  212\n",
      "1972  238\n",
      "1976  381\n",
      "1980  429\n",
      "1984  486\n",
      "1988  535\n",
      "1992  600\n",
      "1996  777\n",
      "2000  889\n",
      "2004  899\n",
      "2008  932\n",
      "2012  924\n"
     ]
    },
    {
     "data": {
      "text/plain": [
       "<matplotlib.axes._subplots.AxesSubplot at 0xfea514860>"
      ]
     },
     "execution_count": 229,
     "metadata": {},
     "output_type": "execute_result"
    },
    {
     "data": {
      "image/png": "[encoded data removed]",
      "text/plain": [
       "<Figure size 432x288 with 1 Axes>"
      ]
     },
     "metadata": {
      "needs_background": "light"
     },
     "output_type": "display_data"
    }
   ],
   "source": [
    "df_f =df[ (df['Gender'] == 'Women') ]\n",
    "df_fg=df_f.groupby(['Year']).sum()\n",
    "#print(df_fg)\n",
    "df_fg.plot(kind='bar')"
   ]
  },
  {
   "cell_type": "code",
   "execution_count": 221,
   "metadata": {},
   "outputs": [
    {
     "data": {
      "text/html": [
       "<div>\n",
       "<style scoped>\n",
       "    .dataframe tbody tr th:only-of-type {\n",
       "        vertical-align: middle;\n",
       "    }\n",
       "\n",
       "    .dataframe tbody tr th {\n",
       "        vertical-align: top;\n",
       "    }\n",
       "\n",
       "    .dataframe thead th {\n",
       "        text-align: right;\n",
       "    }\n",
       "</style>\n",
       "<table border=\"1\" class=\"dataframe\">\n",
       "  <thead>\n",
       "    <tr style=\"text-align: right;\">\n",
       "      <th></th>\n",
       "      <th></th>\n",
       "      <th></th>\n",
       "      <th>Num</th>\n",
       "    </tr>\n",
       "    <tr>\n",
       "      <th>Year</th>\n",
       "      <th>City</th>\n",
       "      <th>Country</th>\n",
       "      <th></th>\n",
       "    </tr>\n",
       "  </thead>\n",
       "  <tbody>\n",
       "    <tr>\n",
       "      <th rowspan=\"10\" valign=\"top\">2012</th>\n",
       "      <th rowspan=\"10\" valign=\"top\">London</th>\n",
       "      <th>USA</th>\n",
       "      <td>250</td>\n",
       "    </tr>\n",
       "    <tr>\n",
       "      <th>RUS</th>\n",
       "      <td>130</td>\n",
       "    </tr>\n",
       "    <tr>\n",
       "      <th>CHN</th>\n",
       "      <td>128</td>\n",
       "    </tr>\n",
       "    <tr>\n",
       "      <th>GBR</th>\n",
       "      <td>126</td>\n",
       "    </tr>\n",
       "    <tr>\n",
       "      <th>AUS</th>\n",
       "      <td>114</td>\n",
       "    </tr>\n",
       "    <tr>\n",
       "      <th>GER</th>\n",
       "      <td>94</td>\n",
       "    </tr>\n",
       "    <tr>\n",
       "      <th>JPN</th>\n",
       "      <td>84</td>\n",
       "    </tr>\n",
       "    <tr>\n",
       "      <th>FRA</th>\n",
       "      <td>82</td>\n",
       "    </tr>\n",
       "    <tr>\n",
       "      <th>NED</th>\n",
       "      <td>69</td>\n",
       "    </tr>\n",
       "    <tr>\n",
       "      <th>ITA</th>\n",
       "      <td>68</td>\n",
       "    </tr>\n",
       "  </tbody>\n",
       "</table>\n",
       "</div>"
      ],
      "text/plain": [
       "                     Num\n",
       "Year City   Country     \n",
       "2012 London USA      250\n",
       "            RUS      130\n",
       "            CHN      128\n",
       "            GBR      126\n",
       "            AUS      114\n",
       "            GER       94\n",
       "            JPN       84\n",
       "            FRA       82\n",
       "            NED       69\n",
       "            ITA       68"
      ]
     },
     "execution_count": 221,
     "metadata": {},
     "output_type": "execute_result"
    }
   ],
   "source": [
    "df_l =df[(df['Year'] == 2012) ]\n",
    "df_k=df_l.groupby(['Year','City','Country']).sum()\n",
    "df_s=df_k.sort_values(by=['Num'],ascending=False)\n",
    "df_s.head(10)"
   ]
  },
  {
   "cell_type": "code",
   "execution_count": 236,
   "metadata": {},
   "outputs": [
    {
     "name": "stdout",
     "output_type": "stream",
     "text": [
      "      Num\n",
      "Year     \n",
      "1952    1\n",
      "1968   15\n",
      "1972   14\n",
      "1996    1\n",
      "2000    1\n",
      "2008    2\n",
      "2012    4\n"
     ]
    },
    {
     "data": {
      "text/plain": [
       "<matplotlib.axes._subplots.AxesSubplot at 0xfed6231d0>"
      ]
     },
     "execution_count": 236,
     "metadata": {},
     "output_type": "execute_result"
    },
    {
     "data": {
      "image/png": "[encoded data removed]",
      "text/plain": [
       "<Figure size 432x288 with 1 Axes>"
      ]
     },
     "metadata": {
      "needs_background": "light"
     },
     "output_type": "display_data"
    }
   ],
   "source": [
    "df_I =df[(df['Country'] == 'IND') & (df['Medal'] == 'Bronze') ]\n",
    "#df_IND.head(20)\n",
    "df_IND=df_I.groupby(['Year']).sum() \n",
    "print (df_IND)\n",
    "df_IND.plot(kind='bar')\n",
    "#df_IND.plot(x='Year', y='Num', style='o')"
   ]
  },
  {
   "cell_type": "code",
   "execution_count": 248,
   "metadata": {},
   "outputs": [
    {
     "name": "stdout",
     "output_type": "stream",
     "text": [
      "      Num\n",
      "Year     \n",
      "2000   79\n",
      "2004   94\n",
      "2008  184\n",
      "2012  128\n"
     ]
    },
    {
     "data": {
      "text/plain": [
       "<matplotlib.axes._subplots.AxesSubplot at 0xfedb960f0>"
      ]
     },
     "execution_count": 248,
     "metadata": {},
     "output_type": "execute_result"
    },
    {
     "data": {
      "image/png": "[encoded data removed]",
      "text/plain": [
       "<Figure size 432x288 with 1 Axes>"
      ]
     },
     "metadata": {
      "needs_background": "light"
     },
     "output_type": "display_data"
    }
   ],
   "source": [
    "#df_ct = df[(df['Country'] == 'GBR') & (df['Year'] >= 2000) ]\n",
    "#df_ct = df[(df['Country'] == 'AUS') & (df['Year'] >= 2000) ]\n",
    "#df_ct = df[(df['Country'] == 'GRE') & (df['Year'] >= 2000) ]\n",
    "df_ct = df[(df['Country'] == 'CHN') & (df['Year'] >= 2000) ]\n",
    "df_ctry=df_ct.groupby(['Year']).sum()\n",
    "print(df_ctry)\n",
    "df_ctry.plot()"
   ]
  },
  {
   "cell_type": "code",
   "execution_count": 254,
   "metadata": {},
   "outputs": [
    {
     "data": {
      "text/html": [
       "<div>\n",
       "<style scoped>\n",
       "    .dataframe tbody tr th:only-of-type {\n",
       "        vertical-align: middle;\n",
       "    }\n",
       "\n",
       "    .dataframe tbody tr th {\n",
       "        vertical-align: top;\n",
       "    }\n",
       "\n",
       "    .dataframe thead th {\n",
       "        text-align: right;\n",
       "    }\n",
       "</style>\n",
       "<table border=\"1\" class=\"dataframe\">\n",
       "  <thead>\n",
       "    <tr style=\"text-align: right;\">\n",
       "      <th></th>\n",
       "      <th></th>\n",
       "      <th></th>\n",
       "      <th></th>\n",
       "      <th>Num</th>\n",
       "    </tr>\n",
       "    <tr>\n",
       "      <th>Year</th>\n",
       "      <th>City</th>\n",
       "      <th>Country</th>\n",
       "      <th>Medal</th>\n",
       "      <th></th>\n",
       "    </tr>\n",
       "  </thead>\n",
       "  <tbody>\n",
       "    <tr>\n",
       "      <th rowspan=\"3\" valign=\"top\">2000</th>\n",
       "      <th rowspan=\"3\" valign=\"top\">Sydney</th>\n",
       "      <th rowspan=\"3\" valign=\"top\">USA</th>\n",
       "      <th>Bronze</th>\n",
       "      <td>52</td>\n",
       "    </tr>\n",
       "    <tr>\n",
       "      <th>Gold</th>\n",
       "      <td>130</td>\n",
       "    </tr>\n",
       "    <tr>\n",
       "      <th>Silver</th>\n",
       "      <td>66</td>\n",
       "    </tr>\n",
       "    <tr>\n",
       "      <th rowspan=\"3\" valign=\"top\">2004</th>\n",
       "      <th rowspan=\"3\" valign=\"top\">Athens</th>\n",
       "      <th rowspan=\"3\" valign=\"top\">USA</th>\n",
       "      <th>Bronze</th>\n",
       "      <td>73</td>\n",
       "    </tr>\n",
       "    <tr>\n",
       "      <th>Gold</th>\n",
       "      <td>116</td>\n",
       "    </tr>\n",
       "    <tr>\n",
       "      <th>Silver</th>\n",
       "      <td>75</td>\n",
       "    </tr>\n",
       "    <tr>\n",
       "      <th rowspan=\"3\" valign=\"top\">2008</th>\n",
       "      <th rowspan=\"3\" valign=\"top\">Beijing</th>\n",
       "      <th rowspan=\"3\" valign=\"top\">USA</th>\n",
       "      <th>Bronze</th>\n",
       "      <td>81</td>\n",
       "    </tr>\n",
       "    <tr>\n",
       "      <th>Gold</th>\n",
       "      <td>125</td>\n",
       "    </tr>\n",
       "    <tr>\n",
       "      <th>Silver</th>\n",
       "      <td>109</td>\n",
       "    </tr>\n",
       "    <tr>\n",
       "      <th rowspan=\"3\" valign=\"top\">2012</th>\n",
       "      <th rowspan=\"3\" valign=\"top\">London</th>\n",
       "      <th rowspan=\"3\" valign=\"top\">USA</th>\n",
       "      <th>Bronze</th>\n",
       "      <td>46</td>\n",
       "    </tr>\n",
       "    <tr>\n",
       "      <th>Gold</th>\n",
       "      <td>147</td>\n",
       "    </tr>\n",
       "    <tr>\n",
       "      <th>Silver</th>\n",
       "      <td>57</td>\n",
       "    </tr>\n",
       "  </tbody>\n",
       "</table>\n",
       "</div>"
      ],
      "text/plain": [
       "                             Num\n",
       "Year City    Country Medal      \n",
       "2000 Sydney  USA     Bronze   52\n",
       "                     Gold    130\n",
       "                     Silver   66\n",
       "2004 Athens  USA     Bronze   73\n",
       "                     Gold    116\n",
       "                     Silver   75\n",
       "2008 Beijing USA     Bronze   81\n",
       "                     Gold    125\n",
       "                     Silver  109\n",
       "2012 London  USA     Bronze   46\n",
       "                     Gold    147\n",
       "                     Silver   57"
      ]
     },
     "execution_count": 254,
     "metadata": {},
     "output_type": "execute_result"
    }
   ],
   "source": [
    "df_t =df[(df['Year'] >= 2000) & (df['Country'] == 'USA') ]\n",
    "#df_t =df[(df['Year'] == 2012) & (df['Country'] == 'USA') ]\n",
    "df_t.groupby(['Year','City','Country','Medal']).sum()"
   ]
  }
 ],
 "metadata": {
  "kernelspec": {
   "display_name": "Python 3",
   "language": "python",
   "name": "python3"
  },
  "language_info": {
   "codemirror_mode": {
    "name": "ipython",
    "version": 3
   },
   "file_extension": ".py",
   "mimetype": "text/x-python",
   "name": "python",
   "nbconvert_exporter": "python",
   "pygments_lexer": "ipython3",
   "version": "3.7.1"
  }
 },
 "nbformat": 4,
 "nbformat_minor": 2
}
